{
  "nbformat": 4,
  "nbformat_minor": 5,
  "metadata": {
    "kernelspec": {
      "display_name": "Python 3",
      "language": "python",
      "name": "python3"
    },
    "language_info": {
      "codemirror_mode": {
        "name": "ipython",
        "version": 3
      },
      "file_extension": ".py",
      "mimetype": "text/x-python",
      "name": "python",
      "nbconvert_exporter": "python",
      "pygments_lexer": "ipython3",
      "version": "3.8.8"
    },
    "colab": {
      "name": "Cloud_Final_info.ipynb",
      "provenance": [],
      "include_colab_link": true
    }
  },
  "cells": [
    {
      "cell_type": "markdown",
      "metadata": {
        "id": "view-in-github",
        "colab_type": "text"
      },
      "source": [
        "<a href=\"https://colab.research.google.com/github/parth1614/pySpark/blob/main/Cloud_Final_info.ipynb\" target=\"_parent\"><img src=\"https://colab.research.google.com/assets/colab-badge.svg\" alt=\"Open In Colab\"/></a>"
      ]
    },
    {
      "cell_type": "code",
      "metadata": {
        "colab": {
          "base_uri": "https://localhost:8080/"
        },
        "id": "806a8d7b",
        "outputId": "c82c1cf9-ff4a-4a36-b7b7-47b2d87f90b0"
      },
      "source": [
        "!pip install findspark\n",
        "!pip install spark"
      ],
      "id": "806a8d7b",
      "execution_count": 1,
      "outputs": [
        {
          "output_type": "stream",
          "name": "stdout",
          "text": [
            "Collecting findspark\n",
            "  Downloading findspark-1.4.2-py2.py3-none-any.whl (4.2 kB)\n",
            "Installing collected packages: findspark\n",
            "Successfully installed findspark-1.4.2\n",
            "Collecting spark\n",
            "  Downloading spark-0.2.1.tar.gz (41 kB)\n",
            "\u001b[K     |████████████████████████████████| 41 kB 65 kB/s \n",
            "\u001b[?25hBuilding wheels for collected packages: spark\n",
            "  Building wheel for spark (setup.py) ... \u001b[?25l\u001b[?25hdone\n",
            "  Created wheel for spark: filename=spark-0.2.1-py3-none-any.whl size=58761 sha256=ba2837cb6c1bf4fa8ccfc89b32e4128b713e97d8500da8b89636d0ba058b8342\n",
            "  Stored in directory: /root/.cache/pip/wheels/4e/0e/f1/164619f9920fb447d294afaae11a7715bd442ded7225953d72\n",
            "Successfully built spark\n",
            "Installing collected packages: spark\n",
            "Successfully installed spark-0.2.1\n"
          ]
        }
      ]
    },
    {
      "cell_type": "code",
      "metadata": {
        "id": "fcxsyBaeVXAy"
      },
      "source": [
        "import findspark"
      ],
      "id": "fcxsyBaeVXAy",
      "execution_count": 2,
      "outputs": []
    },
    {
      "cell_type": "code",
      "metadata": {
        "id": "d45c3934"
      },
      "source": [
        "from pyspark.sql import SparkSession\n",
        "spark = SparkSession.builder.master('local[1]').appName(\"first\").getOrCreate()\n",
        "sc = spark.sparkContext"
      ],
      "id": "d45c3934",
      "execution_count": null,
      "outputs": []
    },
    {
      "cell_type": "code",
      "metadata": {
        "id": "2a37a8ff"
      },
      "source": [
        "df = spark.read.csv('data.csv')"
      ],
      "id": "2a37a8ff",
      "execution_count": null,
      "outputs": []
    },
    {
      "cell_type": "code",
      "metadata": {
        "id": "9d6e4589",
        "outputId": "30d89c74-d130-451c-e025-240794998049"
      },
      "source": [
        "df.show()"
      ],
      "id": "9d6e4589",
      "execution_count": null,
      "outputs": [
        {
          "name": "stdout",
          "output_type": "stream",
          "text": [
            "+--------+---+---+---+\n",
            "|     _c0|_c1|_c2|_c3|\n",
            "+--------+---+---+---+\n",
            "|  aditya|  1| 12|  9|\n",
            "|   parth|  2| 13|9.1|\n",
            "| bhavesh|  3| 14|9.2|\n",
            "|   shrey|  4| 15|9.3|\n",
            "| aditya1|  5| 16|9.4|\n",
            "|  parth1|  6| 17|9.5|\n",
            "|  shrey1|  7| 18|9.6|\n",
            "|bhavesh1|  8| 19|9.7|\n",
            "+--------+---+---+---+\n",
            "\n"
          ]
        }
      ]
    },
    {
      "cell_type": "code",
      "metadata": {
        "id": "5f2af92d",
        "outputId": "b1895a0e-bf26-4b9d-c460-b66925ed4a32"
      },
      "source": [
        "df.take(4)"
      ],
      "id": "5f2af92d",
      "execution_count": null,
      "outputs": [
        {
          "data": {
            "text/plain": [
              "[Row(_c0='aditya', _c1='1', _c2='12', _c3='9'),\n",
              " Row(_c0='parth', _c1='2', _c2='13', _c3='9.1'),\n",
              " Row(_c0='bhavesh', _c1='3', _c2='14', _c3='9.2'),\n",
              " Row(_c0='shrey', _c1='4', _c2='15', _c3='9.3')]"
            ]
          },
          "execution_count": 48,
          "metadata": {},
          "output_type": "execute_result"
        }
      ]
    },
    {
      "cell_type": "code",
      "metadata": {
        "id": "d6182ea2",
        "outputId": "0dc2f3be-6c0a-4e96-88f5-466e8b1d3bdf"
      },
      "source": [
        "df.printSchema()"
      ],
      "id": "d6182ea2",
      "execution_count": null,
      "outputs": [
        {
          "name": "stdout",
          "output_type": "stream",
          "text": [
            "root\n",
            " |-- _c0: string (nullable = true)\n",
            " |-- _c1: string (nullable = true)\n",
            " |-- _c2: string (nullable = true)\n",
            " |-- _c3: string (nullable = true)\n",
            "\n"
          ]
        }
      ]
    },
    {
      "cell_type": "code",
      "metadata": {
        "id": "658baa24",
        "outputId": "17525da9-fd9d-4ec8-8562-bedc71f2045a"
      },
      "source": [
        "df.filter(df._c1 == '3').show()"
      ],
      "id": "658baa24",
      "execution_count": null,
      "outputs": [
        {
          "name": "stdout",
          "output_type": "stream",
          "text": [
            "+-------+---+---+---+\n",
            "|    _c0|_c1|_c2|_c3|\n",
            "+-------+---+---+---+\n",
            "|bhavesh|  3| 14|9.2|\n",
            "+-------+---+---+---+\n",
            "\n"
          ]
        }
      ]
    },
    {
      "cell_type": "code",
      "metadata": {
        "id": "46b81ea7",
        "outputId": "c6dd0ec9-fd78-408e-bcc6-35bc449e7d42"
      },
      "source": [
        "l = [2,3,4]\n",
        "df.filter(df._c1.isin(l)).show()"
      ],
      "id": "46b81ea7",
      "execution_count": null,
      "outputs": [
        {
          "name": "stdout",
          "output_type": "stream",
          "text": [
            "+-------+---+---+---+\n",
            "|    _c0|_c1|_c2|_c3|\n",
            "+-------+---+---+---+\n",
            "|  parth|  2| 13|9.1|\n",
            "|bhavesh|  3| 14|9.2|\n",
            "|  shrey|  4| 15|9.3|\n",
            "+-------+---+---+---+\n",
            "\n"
          ]
        }
      ]
    },
    {
      "cell_type": "code",
      "metadata": {
        "id": "ee19579f",
        "outputId": "38f7e96d-8fe6-46b7-d540-c5730e192471"
      },
      "source": [
        "df.filter(df._c0.startswith('a')).show()"
      ],
      "id": "ee19579f",
      "execution_count": null,
      "outputs": [
        {
          "name": "stdout",
          "output_type": "stream",
          "text": [
            "+-------+---+---+---+\n",
            "|    _c0|_c1|_c2|_c3|\n",
            "+-------+---+---+---+\n",
            "| aditya|  1| 12|  9|\n",
            "|aditya1|  5| 16|9.4|\n",
            "+-------+---+---+---+\n",
            "\n"
          ]
        }
      ]
    },
    {
      "cell_type": "code",
      "metadata": {
        "id": "356e6ded",
        "outputId": "02e42923-619f-43e5-ba3a-7a520660f9d1"
      },
      "source": [
        "df.filter(df._c0.endswith('h')).show()"
      ],
      "id": "356e6ded",
      "execution_count": null,
      "outputs": [
        {
          "name": "stdout",
          "output_type": "stream",
          "text": [
            "+-------+---+---+---+\n",
            "|    _c0|_c1|_c2|_c3|\n",
            "+-------+---+---+---+\n",
            "|  parth|  2| 13|9.1|\n",
            "|bhavesh|  3| 14|9.2|\n",
            "+-------+---+---+---+\n",
            "\n"
          ]
        }
      ]
    },
    {
      "cell_type": "code",
      "metadata": {
        "id": "c15196c1",
        "outputId": "607745f0-ef6f-441e-eba0-0a89591fef98"
      },
      "source": [
        "df.filter(df._c0.contains('a')).show()"
      ],
      "id": "c15196c1",
      "execution_count": null,
      "outputs": [
        {
          "name": "stdout",
          "output_type": "stream",
          "text": [
            "+--------+---+---+---+\n",
            "|     _c0|_c1|_c2|_c3|\n",
            "+--------+---+---+---+\n",
            "|  aditya|  1| 12|  9|\n",
            "|   parth|  2| 13|9.1|\n",
            "| bhavesh|  3| 14|9.2|\n",
            "| aditya1|  5| 16|9.4|\n",
            "|  parth1|  6| 17|9.5|\n",
            "|bhavesh1|  8| 19|9.7|\n",
            "+--------+---+---+---+\n",
            "\n"
          ]
        }
      ]
    },
    {
      "cell_type": "code",
      "metadata": {
        "id": "7959fdc0"
      },
      "source": [
        "# using spark on number lists"
      ],
      "id": "7959fdc0",
      "execution_count": null,
      "outputs": []
    },
    {
      "cell_type": "code",
      "metadata": {
        "id": "43840c22",
        "outputId": "bab0fcb1-c943-408d-e61e-5406c1095cab"
      },
      "source": [
        "bigdata = range(10000)\n",
        "rdd = sc.parallelize(bigdata, 3)\n",
        "rdd.take(5)"
      ],
      "id": "43840c22",
      "execution_count": null,
      "outputs": [
        {
          "data": {
            "text/plain": [
              "[0, 1, 2, 3, 4]"
            ]
          },
          "execution_count": 85,
          "metadata": {},
          "output_type": "execute_result"
        }
      ]
    },
    {
      "cell_type": "code",
      "metadata": {
        "id": "279eeee1"
      },
      "source": [
        "odd_num = rdd.filter(lambda x: x%2!=0).collect()"
      ],
      "id": "279eeee1",
      "execution_count": null,
      "outputs": []
    },
    {
      "cell_type": "code",
      "metadata": {
        "id": "60a24a83",
        "outputId": "b20b70b3-470f-45dd-f7d3-5b3bf82c904a"
      },
      "source": [
        "odd_num[0:5]"
      ],
      "id": "60a24a83",
      "execution_count": null,
      "outputs": [
        {
          "data": {
            "text/plain": [
              "[1, 3, 5, 7, 9]"
            ]
          },
          "execution_count": 87,
          "metadata": {},
          "output_type": "execute_result"
        }
      ]
    },
    {
      "cell_type": "code",
      "metadata": {
        "id": "8f930052"
      },
      "source": [
        "# text file reading"
      ],
      "id": "8f930052",
      "execution_count": null,
      "outputs": []
    },
    {
      "cell_type": "code",
      "metadata": {
        "id": "f21409e6"
      },
      "source": [
        "text_file = sc.textFile('sc.txt')"
      ],
      "id": "f21409e6",
      "execution_count": null,
      "outputs": []
    },
    {
      "cell_type": "code",
      "metadata": {
        "id": "0f0bca79",
        "outputId": "4f3cbf6c-bf30-4e49-d5b7-80d39a503845"
      },
      "source": [
        "text_file.take(4)"
      ],
      "id": "0f0bca79",
      "execution_count": null,
      "outputs": [
        {
          "data": {
            "text/plain": [
              "['Using this Wiki',\n",
              " '',\n",
              " 'This Wiki is a community place to gather and organize all things about Python. Feel free to exercise your editorial skills and expertise to make it a useful knowledge base and up-to-date reference on all Python-related topics.',\n",
              " '']"
            ]
          },
          "execution_count": 90,
          "metadata": {},
          "output_type": "execute_result"
        }
      ]
    },
    {
      "cell_type": "code",
      "metadata": {
        "id": "5dd183af"
      },
      "source": [
        "words = text_file.flatMap(lambda line: line.split(' '))"
      ],
      "id": "5dd183af",
      "execution_count": null,
      "outputs": []
    },
    {
      "cell_type": "code",
      "metadata": {
        "id": "2a2604a6"
      },
      "source": [
        "words = words.map(lambda word: (word,1))"
      ],
      "id": "2a2604a6",
      "execution_count": null,
      "outputs": []
    },
    {
      "cell_type": "code",
      "metadata": {
        "id": "49f3ef80",
        "outputId": "f9e9fdab-1dd7-4ea6-ca1b-36118d9357f8"
      },
      "source": [
        "words.take(5)"
      ],
      "id": "49f3ef80",
      "execution_count": null,
      "outputs": [
        {
          "data": {
            "text/plain": [
              "[('Using', 1), ('this', 1), ('Wiki', 1), ('', 1), ('This', 1)]"
            ]
          },
          "execution_count": 93,
          "metadata": {},
          "output_type": "execute_result"
        }
      ]
    },
    {
      "cell_type": "code",
      "metadata": {
        "id": "f9883bd7"
      },
      "source": [
        "words = words.reduceByKey(lambda a,b : a+b)"
      ],
      "id": "f9883bd7",
      "execution_count": null,
      "outputs": []
    },
    {
      "cell_type": "code",
      "metadata": {
        "id": "588995f9",
        "outputId": "b5fafedd-2b91-49a1-d966-86d4728de52d"
      },
      "source": [
        "words.collect()"
      ],
      "id": "588995f9",
      "execution_count": null,
      "outputs": [
        {
          "data": {
            "text/plain": [
              "[('Using', 1),\n",
              " ('this', 6),\n",
              " ('Wiki', 4),\n",
              " ('', 9),\n",
              " ('This', 1),\n",
              " ('is', 2),\n",
              " ('a', 9),\n",
              " ('community', 1),\n",
              " ('place', 1),\n",
              " ('to', 16),\n",
              " ('gather', 1),\n",
              " ('and', 9),\n",
              " ('organize', 1),\n",
              " ('all', 3),\n",
              " ('things', 1),\n",
              " ('about', 1),\n",
              " ('Python.', 1),\n",
              " ('Feel', 1),\n",
              " ('free', 1),\n",
              " ('exercise', 1),\n",
              " ('your', 4),\n",
              " ('editorial', 1),\n",
              " ('skills', 1),\n",
              " ('expertise', 1),\n",
              " ('make', 1),\n",
              " ('it', 2),\n",
              " ('useful', 2),\n",
              " ('knowledge', 1),\n",
              " ('base', 1),\n",
              " ('up-to-date', 1),\n",
              " ('reference', 1),\n",
              " ('on', 3),\n",
              " ('Python-related', 1),\n",
              " ('topics.', 1),\n",
              " ('There', 1),\n",
              " ('are', 2),\n",
              " ('some', 1),\n",
              " ('guidelines', 1),\n",
              " ('describing', 2),\n",
              " ('the', 10),\n",
              " ('policies', 1),\n",
              " ('rules', 1),\n",
              " ('governing', 1),\n",
              " ('how', 1),\n",
              " ('you', 7),\n",
              " ('can', 2),\n",
              " ('most', 1),\n",
              " ('effectively', 1),\n",
              " ('contribute', 1),\n",
              " ('it.', 1),\n",
              " ('A', 1),\n",
              " ('list', 2),\n",
              " ('of', 1),\n",
              " ('site', 1),\n",
              " ('improvements', 1),\n",
              " ('describes', 1),\n",
              " ('various', 1),\n",
              " ('tasks', 1),\n",
              " ('where', 1),\n",
              " ('help', 1),\n",
              " ('would', 2),\n",
              " ('be', 1),\n",
              " ('appreciated.', 1),\n",
              " ('To', 1),\n",
              " ('keep', 2),\n",
              " ('up', 3),\n",
              " ('with', 1),\n",
              " ('changes', 1),\n",
              " ('site,', 1),\n",
              " ('check', 1),\n",
              " ('RecentChanges', 1),\n",
              " ('frequently', 1),\n",
              " ('or', 2),\n",
              " ('follow', 1),\n",
              " ('using', 1),\n",
              " ('RSS:', 1),\n",
              " ('RSS', 1),\n",
              " ('feed.', 1),\n",
              " ('Creating', 1),\n",
              " ('account', 4),\n",
              " ('In', 1),\n",
              " ('order', 1),\n",
              " ('sign', 1),\n",
              " ('for', 3),\n",
              " ('wiki', 5),\n",
              " ('account,', 1),\n",
              " ('please', 3),\n",
              " ('go', 1),\n",
              " ('Create', 1),\n",
              " ('new', 1),\n",
              " ('form,', 1),\n",
              " ('enter', 1),\n",
              " ('name', 2),\n",
              " ('(using', 1),\n",
              " ('format', 1),\n",
              " ('FirstnameLastname', 1),\n",
              " ('avoid', 1),\n",
              " ('issues', 1),\n",
              " ('-', 1),\n",
              " (\"don't\", 1),\n",
              " ('use', 1),\n",
              " ('spaces', 1),\n",
              " ('in', 2),\n",
              " ('name)', 2),\n",
              " ('provide', 1),\n",
              " ('password,', 1),\n",
              " ('plus', 1),\n",
              " ('email', 1),\n",
              " ('address', 1),\n",
              " ('(for', 1),\n",
              " ('password', 1),\n",
              " ('recovery).', 1),\n",
              " ('Editing', 1),\n",
              " ('pages', 1),\n",
              " ('Since', 1),\n",
              " ('spamming', 1),\n",
              " ('vandalism', 1),\n",
              " ('had', 1),\n",
              " ('reached', 1),\n",
              " ('level', 1),\n",
              " ('that', 3),\n",
              " ('required', 1),\n",
              " ('constant', 1),\n",
              " ('intervention,', 1),\n",
              " ('unfamiliar', 1),\n",
              " ('users', 1),\n",
              " ('no', 2),\n",
              " ('longer', 2),\n",
              " ('allowed', 1),\n",
              " ('edit', 4),\n",
              " ('pages.', 1),\n",
              " ('However', 1),\n",
              " ('need', 1),\n",
              " ('do', 1),\n",
              " ('introduce', 1),\n",
              " ('yourself', 1),\n",
              " ('admin', 1),\n",
              " ('group', 1),\n",
              " ('become', 1),\n",
              " ('an', 1),\n",
              " ('editor.', 1),\n",
              " ('If', 1),\n",
              " ('want', 2),\n",
              " ('page', 2),\n",
              " ('have', 1),\n",
              " ('just', 1),\n",
              " ('signed', 1),\n",
              " ('up,', 1),\n",
              " ('find', 1),\n",
              " ('could', 1),\n",
              " ('before,', 1),\n",
              " ('write', 1),\n",
              " ('pydotorg-www', 1),\n",
              " ('mailing', 1),\n",
              " ('what', 1),\n",
              " ('like', 1),\n",
              " ('edit,', 1),\n",
              " (\"we'll\", 1),\n",
              " ('add', 1),\n",
              " ('EditorsGroup.', 1),\n",
              " ('Please', 1),\n",
              " ('include', 1),\n",
              " ('(wiki', 1),\n",
              " ('message.', 1),\n",
              " ('Sorry', 1),\n",
              " ('any', 1),\n",
              " ('inconvenience,', 1),\n",
              " ('but', 1),\n",
              " ('we', 1),\n",
              " ('tool', 1),\n",
              " ('community,', 1),\n",
              " ('while', 1),\n",
              " ('at', 1),\n",
              " ('same', 1),\n",
              " ('time', 1),\n",
              " ('preventing', 1),\n",
              " ('admins', 1),\n",
              " ('from', 1),\n",
              " ('burning', 1),\n",
              " ('out', 1),\n",
              " ('cleaning', 1),\n",
              " ('junk.', 1)]"
            ]
          },
          "execution_count": 97,
          "metadata": {},
          "output_type": "execute_result"
        }
      ]
    },
    {
      "cell_type": "code",
      "metadata": {
        "id": "fc959b8e"
      },
      "source": [
        "zz= words.map(lambda x: (x[1], x[0])).sortByKey(False)"
      ],
      "id": "fc959b8e",
      "execution_count": null,
      "outputs": []
    },
    {
      "cell_type": "code",
      "metadata": {
        "id": "512f6414",
        "outputId": "26751fba-bb4b-4e92-deea-a02685bca1e6"
      },
      "source": [
        "zz.take(5)"
      ],
      "id": "512f6414",
      "execution_count": null,
      "outputs": [
        {
          "data": {
            "text/plain": [
              "[(16, 'to'), (10, 'the'), (9, ''), (9, 'a'), (9, 'and')]"
            ]
          },
          "execution_count": 109,
          "metadata": {},
          "output_type": "execute_result"
        }
      ]
    },
    {
      "cell_type": "code",
      "metadata": {
        "id": "48051d3f"
      },
      "source": [
        "zz = words.map(lambda x:(x[1],x[0])).sortByKey(True)"
      ],
      "id": "48051d3f",
      "execution_count": null,
      "outputs": []
    },
    {
      "cell_type": "code",
      "metadata": {
        "id": "3cab0dd7",
        "outputId": "f86cd336-193a-4893-ab82-269450ac63b5"
      },
      "source": [
        "zz.take(5)"
      ],
      "id": "3cab0dd7",
      "execution_count": null,
      "outputs": [
        {
          "data": {
            "text/plain": [
              "[(1, 'Using'), (1, 'This'), (1, 'community'), (1, 'place'), (1, 'gather')]"
            ]
          },
          "execution_count": 111,
          "metadata": {},
          "output_type": "execute_result"
        }
      ]
    },
    {
      "cell_type": "code",
      "metadata": {
        "id": "92a2c3a5"
      },
      "source": [
        ""
      ],
      "id": "92a2c3a5",
      "execution_count": null,
      "outputs": []
    }
  ]
}