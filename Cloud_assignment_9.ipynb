{
  "nbformat": 4,
  "nbformat_minor": 0,
  "metadata": {
    "colab": {
      "name": "Cloud_assignment_9.ipynb",
      "provenance": [],
      "include_colab_link": true
    },
    "kernelspec": {
      "name": "python3",
      "display_name": "Python 3"
    },
    "language_info": {
      "name": "python"
    }
  },
  "cells": [
    {
      "cell_type": "markdown",
      "metadata": {
        "id": "view-in-github",
        "colab_type": "text"
      },
      "source": [
        "<a href=\"https://colab.research.google.com/github/parth1614/pySpark/blob/main/Cloud_assignment_9.ipynb\" target=\"_parent\"><img src=\"https://colab.research.google.com/assets/colab-badge.svg\" alt=\"Open In Colab\"/></a>"
      ]
    },
    {
      "cell_type": "code",
      "metadata": {
        "colab": {
          "base_uri": "https://localhost:8080/"
        },
        "id": "Tst69Gri2rT_",
        "outputId": "62a7c295-24d8-4644-fd0f-19e3364d95ac"
      },
      "source": [
        "!pip install findspark\n",
        "!pip install pyspark"
      ],
      "execution_count": 1,
      "outputs": [
        {
          "output_type": "stream",
          "name": "stdout",
          "text": [
            "Collecting findspark\n",
            "  Downloading findspark-1.4.2-py2.py3-none-any.whl (4.2 kB)\n",
            "Installing collected packages: findspark\n",
            "Successfully installed findspark-1.4.2\n",
            "Collecting pyspark\n",
            "  Downloading pyspark-3.1.2.tar.gz (212.4 MB)\n",
            "\u001b[K     |████████████████████████████████| 212.4 MB 69 kB/s \n",
            "\u001b[?25hCollecting py4j==0.10.9\n",
            "  Downloading py4j-0.10.9-py2.py3-none-any.whl (198 kB)\n",
            "\u001b[K     |████████████████████████████████| 198 kB 49.3 MB/s \n",
            "\u001b[?25hBuilding wheels for collected packages: pyspark\n",
            "  Building wheel for pyspark (setup.py) ... \u001b[?25l\u001b[?25hdone\n",
            "  Created wheel for pyspark: filename=pyspark-3.1.2-py2.py3-none-any.whl size=212880768 sha256=c9e21eedee85d85e25208a5236f439af9340ba208318f1ae65d2a906f28430ee\n",
            "  Stored in directory: /root/.cache/pip/wheels/a5/0a/c1/9561f6fecb759579a7d863dcd846daaa95f598744e71b02c77\n",
            "Successfully built pyspark\n",
            "Installing collected packages: py4j, pyspark\n",
            "Successfully installed py4j-0.10.9 pyspark-3.1.2\n"
          ]
        }
      ]
    },
    {
      "cell_type": "code",
      "metadata": {
        "id": "rOo9HVYo3fC-"
      },
      "source": [
        "import findspark"
      ],
      "execution_count": 2,
      "outputs": []
    },
    {
      "cell_type": "code",
      "metadata": {
        "id": "0kB-IX6S2v2M"
      },
      "source": [
        "big_list = range(100000)"
      ],
      "execution_count": 3,
      "outputs": []
    },
    {
      "cell_type": "code",
      "metadata": {
        "id": "BzqxHu5k338K"
      },
      "source": [
        "from pyspark.sql import SparkSession"
      ],
      "execution_count": 4,
      "outputs": []
    },
    {
      "cell_type": "code",
      "metadata": {
        "id": "Lmfc3SDq3_5d"
      },
      "source": [
        "spark = SparkSession.builder.master('local[1]').appName('FirstProgram').getOrCreate()"
      ],
      "execution_count": 5,
      "outputs": []
    },
    {
      "cell_type": "code",
      "metadata": {
        "id": "ZwCsWT1N4YHr"
      },
      "source": [
        "sc = spark.sparkContext"
      ],
      "execution_count": 6,
      "outputs": []
    },
    {
      "cell_type": "code",
      "metadata": {
        "id": "LE1F29mn4i_c"
      },
      "source": [
        "gg = sc.parallelize(big_list,19)"
      ],
      "execution_count": 7,
      "outputs": []
    },
    {
      "cell_type": "code",
      "metadata": {
        "id": "OCCA3CIq5cWG"
      },
      "source": [
        "gg1 = gg.filter(lambda x: x%2 !=0)"
      ],
      "execution_count": 8,
      "outputs": []
    },
    {
      "cell_type": "code",
      "metadata": {
        "id": "R7PfzNND6OFu"
      },
      "source": [
        ""
      ],
      "execution_count": null,
      "outputs": []
    },
    {
      "cell_type": "code",
      "metadata": {
        "id": "iFyFH4Va8vqV"
      },
      "source": [
        ""
      ],
      "execution_count": null,
      "outputs": []
    },
    {
      "cell_type": "code",
      "metadata": {
        "id": "DBjCQqr09KLj"
      },
      "source": [
        ""
      ],
      "execution_count": null,
      "outputs": []
    },
    {
      "cell_type": "code",
      "metadata": {
        "id": "AFt-5NS79KIr"
      },
      "source": [
        ""
      ],
      "execution_count": null,
      "outputs": []
    },
    {
      "cell_type": "code",
      "metadata": {
        "id": "QQQGvjqB9KGY"
      },
      "source": [
        ""
      ],
      "execution_count": null,
      "outputs": []
    },
    {
      "cell_type": "code",
      "metadata": {
        "id": "wFXSzutO9KEP"
      },
      "source": [
        ""
      ],
      "execution_count": null,
      "outputs": []
    },
    {
      "cell_type": "code",
      "metadata": {
        "id": "9tpeQoxW9KBy"
      },
      "source": [
        ""
      ],
      "execution_count": null,
      "outputs": []
    },
    {
      "cell_type": "code",
      "metadata": {
        "id": "u6qCoRr29J_6"
      },
      "source": [
        ""
      ],
      "execution_count": null,
      "outputs": []
    },
    {
      "cell_type": "code",
      "metadata": {
        "id": "wtH7o9659J98"
      },
      "source": [
        ""
      ],
      "execution_count": null,
      "outputs": []
    },
    {
      "cell_type": "code",
      "metadata": {
        "id": "eyFIEyZR9J6H"
      },
      "source": [
        ""
      ],
      "execution_count": null,
      "outputs": []
    },
    {
      "cell_type": "code",
      "metadata": {
        "id": "4mjC5T6k9J4Q"
      },
      "source": [
        ""
      ],
      "execution_count": null,
      "outputs": []
    },
    {
      "cell_type": "code",
      "metadata": {
        "id": "6v9lbdYS9J18"
      },
      "source": [
        ""
      ],
      "execution_count": null,
      "outputs": []
    },
    {
      "cell_type": "code",
      "metadata": {
        "id": "1C1j0lDd9Jz9"
      },
      "source": [
        ""
      ],
      "execution_count": null,
      "outputs": []
    },
    {
      "cell_type": "code",
      "metadata": {
        "id": "hMUGX1fc9Jtj"
      },
      "source": [
        "#QUESTION 2"
      ],
      "execution_count": null,
      "outputs": []
    },
    {
      "cell_type": "code",
      "metadata": {
        "id": "C0CaGtvv9Jin"
      },
      "source": [
        "from pyspark.sql import SparkSession"
      ],
      "execution_count": 9,
      "outputs": []
    },
    {
      "cell_type": "code",
      "metadata": {
        "id": "1Y-bFlCM9XRZ"
      },
      "source": [
        "gg = SparkSession.builder.master('local').appName('Parth').getOrCreate()"
      ],
      "execution_count": 10,
      "outputs": []
    },
    {
      "cell_type": "code",
      "metadata": {
        "id": "UIyPoi529qS8"
      },
      "source": [
        "sc = gg.sparkContext"
      ],
      "execution_count": 11,
      "outputs": []
    },
    {
      "cell_type": "code",
      "metadata": {
        "colab": {
          "resources": {
            "http://localhost:8080/nbextensions/google.colab/files.js": {
              "data": "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",
              "ok": true,
              "headers": [
                [
                  "content-type",
                  "application/javascript"
                ]
              ],
              "status": 200,
              "status_text": ""
            }
          },
          "base_uri": "https://localhost:8080/",
          "height": 72
        },
        "id": "cfACDryN-Q8e",
        "outputId": "7c75cc68-0f3b-4fe6-fb4c-5aafe20d2f8c"
      },
      "source": [
        "from google.colab import files\n",
        "uploaded = files.upload()"
      ],
      "execution_count": 14,
      "outputs": [
        {
          "output_type": "display_data",
          "data": {
            "text/html": [
              "\n",
              "     <input type=\"file\" id=\"files-0ffdbad8-6579-4996-8d64-1a988cb27641\" name=\"files[]\" multiple disabled\n",
              "        style=\"border:none\" />\n",
              "     <output id=\"result-0ffdbad8-6579-4996-8d64-1a988cb27641\">\n",
              "      Upload widget is only available when the cell has been executed in the\n",
              "      current browser session. Please rerun this cell to enable.\n",
              "      </output>\n",
              "      <script src=\"/nbextensions/google.colab/files.js\"></script> "
            ],
            "text/plain": [
              "<IPython.core.display.HTML object>"
            ]
          },
          "metadata": {}
        },
        {
          "output_type": "stream",
          "name": "stdout",
          "text": [
            "Saving random.txt to random.txt\n"
          ]
        }
      ]
    },
    {
      "cell_type": "code",
      "metadata": {
        "id": "s94iBQy1-atO"
      },
      "source": [
        "text_file = sc.textFile('random.txt')"
      ],
      "execution_count": 15,
      "outputs": []
    },
    {
      "cell_type": "code",
      "metadata": {
        "colab": {
          "base_uri": "https://localhost:8080/"
        },
        "id": "7vfh6_E0-gwi",
        "outputId": "2c4ea3a2-5ff2-4ae2-8fd7-bb170b1e5768"
      },
      "source": [
        "text_file.collect()"
      ],
      "execution_count": 16,
      "outputs": [
        {
          "output_type": "execute_result",
          "data": {
            "text/plain": [
              "['Lorem ipsum dolor sit amet, consectetur adipiscing elit. Quisque fermentum, turpis eget euismod tincidunt, diam nunc laoreet neque, ut pharetra leo tortor ut tellus. Vestibulum non ligula ut justo dapibus pretium. Praesent vestibulum ullamcorper accumsan. Sed pulvinar congue fringilla. Nullam consectetur, sem eu egestas dapibus, urna lectus imperdiet diam, id tincidunt libero metus a nibh. Interdum et malesuada fames ac ante ipsum primis in faucibus. Aenean ut diam a felis consequat ullamcorper. In id purus quis nisl condimentum fermentum a eu felis. Nullam volutpat, dui a varius iaculis, urna orci ullamcorper tortor, et semper justo mauris sed nisi. Morbi sollicitudin felis sit amet dolor volutpat pharetra nec ultricies turpis. Maecenas maximus ornare arcu, at varius quam volutpat a. Pellentesque posuere sem a dui consectetur, vel molestie lorem aliquam. Vivamus viverra blandit ullamcorper. Curabitur dictum rhoncus orci, non placerat lorem dapibus eget. Suspendisse sodales sollicitudin purus et finibus.',\n",
              " '',\n",
              " 'Phasellus facilisis in ligula quis pulvinar. Nullam rhoncus dapibus erat sed mattis. Nam eget pulvinar urna. Nam maximus scelerisque finibus. Integer imperdiet semper tempus. Proin vitae neque enim. Ut euismod ex sed sollicitudin laoreet. Aliquam est erat, imperdiet quis dapibus eu, suscipit vel purus. Aenean sit amet lacus ullamcorper, pellentesque nibh feugiat, fringilla nunc. Vivamus ut elit velit.',\n",
              " '',\n",
              " 'Pellentesque eu posuere tortor. Aliquam ornare enim vitae fringilla finibus. Proin dignissim a purus eget efficitur. Vestibulum ante ipsum primis in faucibus orci luctus et ultrices posuere cubilia curae; Integer in ligula eu eros gravida sollicitudin ac sit amet nisi. Pellentesque eu pharetra erat. Morbi semper hendrerit tortor, at bibendum velit scelerisque nec. Aenean lorem sem, egestas sed semper ut, sodales vel nisi. Nunc porttitor ante nec auctor auctor. Pellentesque habitant morbi tristique senectus et netus et malesuada fames ac turpis egestas.',\n",
              " '',\n",
              " 'Donec bibendum lorem egestas arcu fringilla, eget aliquet magna aliquam. Fusce vel nunc vel erat pulvinar elementum ac nec magna. Morbi nec ex sodales, tempus nibh vitae, imperdiet felis. Sed sed hendrerit diam, nec convallis est. Quisque in mauris nec ligula convallis posuere. Nulla ac elit porta, lobortis arcu sit amet, fermentum est. Proin gravida ex ut turpis lobortis rutrum. Nam suscipit commodo tortor. Pellentesque aliquet eu sapien molestie vehicula.',\n",
              " '',\n",
              " 'Duis ultrices sem ac blandit euismod. Morbi sodales mi ac ex blandit consectetur. Sed auctor faucibus risus, et gravida ex pulvinar et. Donec lacinia diam quis dolor efficitur, ut imperdiet velit sollicitudin. Morbi ornare tortor nec mauris auctor sollicitudin. Etiam tristique imperdiet erat, ac lobortis massa pharetra commodo. Cras eu libero tortor. Proin eu metus ut ligula iaculis sollicitudin et quis metus. Sed blandit vulputate malesuada.']"
            ]
          },
          "metadata": {},
          "execution_count": 16
        }
      ]
    },
    {
      "cell_type": "code",
      "metadata": {
        "id": "TqN8GwsF9uTg"
      },
      "source": [
        "words = text_file.flatMap(lambda x: x.split(\" \"))"
      ],
      "execution_count": 17,
      "outputs": []
    },
    {
      "cell_type": "code",
      "metadata": {
        "id": "glSlDYe9_GDE"
      },
      "source": [
        "counts = words.map(lambda x: (x,1))"
      ],
      "execution_count": 18,
      "outputs": []
    },
    {
      "cell_type": "code",
      "metadata": {
        "id": "EW3tgDI8_iOk"
      },
      "source": [
        "reduced = counts.reduceByKey(lambda x,y : x+y)"
      ],
      "execution_count": 19,
      "outputs": []
    },
    {
      "cell_type": "code",
      "metadata": {
        "colab": {
          "base_uri": "https://localhost:8080/"
        },
        "id": "F7MdZcwL_iyN",
        "outputId": "b3b17cc0-8508-4fe2-a216-985be7c7798d"
      },
      "source": [
        "reduced.collect()"
      ],
      "execution_count": 20,
      "outputs": [
        {
          "output_type": "execute_result",
          "data": {
            "text/plain": [
              "[('Lorem', 1),\n",
              " ('ipsum', 3),\n",
              " ('dolor', 3),\n",
              " ('sit', 5),\n",
              " ('amet,', 2),\n",
              " ('consectetur', 1),\n",
              " ('adipiscing', 1),\n",
              " ('elit.', 1),\n",
              " ('Quisque', 2),\n",
              " ('fermentum,', 1),\n",
              " ('turpis', 3),\n",
              " ('eget', 4),\n",
              " ('euismod', 2),\n",
              " ('tincidunt,', 1),\n",
              " ('diam', 3),\n",
              " ('nunc', 2),\n",
              " ('laoreet', 1),\n",
              " ('neque,', 1),\n",
              " ('ut', 8),\n",
              " ('pharetra', 4),\n",
              " ('leo', 1),\n",
              " ('tortor', 2),\n",
              " ('tellus.', 1),\n",
              " ('Vestibulum', 2),\n",
              " ('non', 2),\n",
              " ('ligula', 5),\n",
              " ('justo', 2),\n",
              " ('dapibus', 4),\n",
              " ('pretium.', 1),\n",
              " ('Praesent', 1),\n",
              " ('vestibulum', 1),\n",
              " ('ullamcorper', 2),\n",
              " ('accumsan.', 1),\n",
              " ('Sed', 4),\n",
              " ('pulvinar', 4),\n",
              " ('congue', 1),\n",
              " ('fringilla.', 1),\n",
              " ('Nullam', 3),\n",
              " ('consectetur,', 2),\n",
              " ('sem', 3),\n",
              " ('eu', 8),\n",
              " ('egestas', 3),\n",
              " ('dapibus,', 1),\n",
              " ('urna', 2),\n",
              " ('lectus', 1),\n",
              " ('imperdiet', 6),\n",
              " ('diam,', 2),\n",
              " ('id', 2),\n",
              " ('tincidunt', 1),\n",
              " ('libero', 2),\n",
              " ('metus', 2),\n",
              " ('a', 6),\n",
              " ('nibh.', 1),\n",
              " ('Interdum', 1),\n",
              " ('et', 8),\n",
              " ('malesuada', 2),\n",
              " ('fames', 2),\n",
              " ('ac', 8),\n",
              " ('ante', 3),\n",
              " ('primis', 2),\n",
              " ('in', 5),\n",
              " ('faucibus.', 1),\n",
              " ('Aenean', 3),\n",
              " ('felis', 2),\n",
              " ('consequat', 1),\n",
              " ('ullamcorper.', 2),\n",
              " ('In', 1),\n",
              " ('purus', 3),\n",
              " ('quis', 5),\n",
              " ('nisl', 1),\n",
              " ('condimentum', 1),\n",
              " ('fermentum', 2),\n",
              " ('felis.', 2),\n",
              " ('volutpat,', 1),\n",
              " ('dui', 2),\n",
              " ('varius', 2),\n",
              " ('iaculis,', 1),\n",
              " ('orci', 2),\n",
              " ('tortor,', 2),\n",
              " ('semper', 4),\n",
              " ('mauris', 3),\n",
              " ('sed', 5),\n",
              " ('nisi.', 3),\n",
              " ('Morbi', 5),\n",
              " ('sollicitudin', 5),\n",
              " ('amet', 3),\n",
              " ('volutpat', 2),\n",
              " ('nec', 7),\n",
              " ('ultricies', 1),\n",
              " ('turpis.', 1),\n",
              " ('Maecenas', 1),\n",
              " ('maximus', 2),\n",
              " ('ornare', 3),\n",
              " ('arcu,', 1),\n",
              " ('at', 2),\n",
              " ('quam', 1),\n",
              " ('a.', 1),\n",
              " ('Pellentesque', 5),\n",
              " ('posuere', 3),\n",
              " ('vel', 5),\n",
              " ('molestie', 2),\n",
              " ('lorem', 4),\n",
              " ('aliquam.', 2),\n",
              " ('Vivamus', 2),\n",
              " ('viverra', 1),\n",
              " ('blandit', 4),\n",
              " ('Curabitur', 1),\n",
              " ('dictum', 1),\n",
              " ('rhoncus', 2),\n",
              " ('orci,', 1),\n",
              " ('placerat', 1),\n",
              " ('eget.', 1),\n",
              " ('Suspendisse', 1),\n",
              " ('sodales', 3),\n",
              " ('finibus.', 3),\n",
              " ('', 4),\n",
              " ('Phasellus', 1),\n",
              " ('facilisis', 1),\n",
              " ('pulvinar.', 1),\n",
              " ('erat', 2),\n",
              " ('mattis.', 1),\n",
              " ('Nam', 3),\n",
              " ('urna.', 1),\n",
              " ('scelerisque', 2),\n",
              " ('Integer', 2),\n",
              " ('tempus.', 1),\n",
              " ('Proin', 4),\n",
              " ('vitae', 2),\n",
              " ('neque', 1),\n",
              " ('enim.', 1),\n",
              " ('Ut', 1),\n",
              " ('ex', 5),\n",
              " ('laoreet.', 1),\n",
              " ('Aliquam', 2),\n",
              " ('est', 1),\n",
              " ('erat,', 2),\n",
              " ('eu,', 1),\n",
              " ('suscipit', 2),\n",
              " ('purus.', 1),\n",
              " ('lacus', 1),\n",
              " ('ullamcorper,', 1),\n",
              " ('pellentesque', 1),\n",
              " ('nibh', 2),\n",
              " ('feugiat,', 1),\n",
              " ('fringilla', 2),\n",
              " ('nunc.', 1),\n",
              " ('elit', 2),\n",
              " ('velit.', 1),\n",
              " ('tortor.', 3),\n",
              " ('enim', 1),\n",
              " ('dignissim', 1),\n",
              " ('efficitur.', 1),\n",
              " ('faucibus', 2),\n",
              " ('luctus', 1),\n",
              " ('ultrices', 2),\n",
              " ('cubilia', 1),\n",
              " ('curae;', 1),\n",
              " ('eros', 1),\n",
              " ('gravida', 3),\n",
              " ('erat.', 1),\n",
              " ('hendrerit', 2),\n",
              " ('bibendum', 2),\n",
              " ('velit', 2),\n",
              " ('nec.', 1),\n",
              " ('sem,', 1),\n",
              " ('ut,', 1),\n",
              " ('Nunc', 1),\n",
              " ('porttitor', 1),\n",
              " ('auctor', 3),\n",
              " ('auctor.', 1),\n",
              " ('habitant', 1),\n",
              " ('morbi', 1),\n",
              " ('tristique', 2),\n",
              " ('senectus', 1),\n",
              " ('netus', 1),\n",
              " ('egestas.', 1),\n",
              " ('Donec', 2),\n",
              " ('arcu', 2),\n",
              " ('fringilla,', 1),\n",
              " ('aliquet', 2),\n",
              " ('magna', 1),\n",
              " ('Fusce', 1),\n",
              " ('elementum', 1),\n",
              " ('magna.', 1),\n",
              " ('sodales,', 1),\n",
              " ('tempus', 1),\n",
              " ('vitae,', 1),\n",
              " ('convallis', 2),\n",
              " ('est.', 2),\n",
              " ('posuere.', 1),\n",
              " ('Nulla', 1),\n",
              " ('porta,', 1),\n",
              " ('lobortis', 3),\n",
              " ('rutrum.', 1),\n",
              " ('commodo', 1),\n",
              " ('sapien', 1),\n",
              " ('vehicula.', 1),\n",
              " ('Duis', 1),\n",
              " ('euismod.', 1),\n",
              " ('mi', 1),\n",
              " ('consectetur.', 1),\n",
              " ('risus,', 1),\n",
              " ('et.', 1),\n",
              " ('lacinia', 1),\n",
              " ('efficitur,', 1),\n",
              " ('sollicitudin.', 2),\n",
              " ('Etiam', 1),\n",
              " ('massa', 1),\n",
              " ('commodo.', 1),\n",
              " ('Cras', 1),\n",
              " ('iaculis', 1),\n",
              " ('metus.', 1),\n",
              " ('vulputate', 1),\n",
              " ('malesuada.', 1)]"
            ]
          },
          "metadata": {},
          "execution_count": 20
        }
      ]
    },
    {
      "cell_type": "code",
      "metadata": {
        "id": "aGLL5AgWAe0F"
      },
      "source": [
        ""
      ],
      "execution_count": null,
      "outputs": []
    },
    {
      "cell_type": "code",
      "metadata": {
        "id": "PFouHhM9Bjto"
      },
      "source": [
        ""
      ],
      "execution_count": null,
      "outputs": []
    },
    {
      "cell_type": "code",
      "metadata": {
        "id": "SEft4QM-BjqR"
      },
      "source": [
        ""
      ],
      "execution_count": null,
      "outputs": []
    },
    {
      "cell_type": "code",
      "metadata": {
        "id": "xdPc8nrPBjnV"
      },
      "source": [
        ""
      ],
      "execution_count": null,
      "outputs": []
    },
    {
      "cell_type": "code",
      "metadata": {
        "id": "zxf92yetBjk8"
      },
      "source": [
        ""
      ],
      "execution_count": null,
      "outputs": []
    },
    {
      "cell_type": "code",
      "metadata": {
        "id": "m-O-td90Bji0"
      },
      "source": [
        "#QUESTION 3"
      ],
      "execution_count": null,
      "outputs": []
    },
    {
      "cell_type": "code",
      "metadata": {
        "id": "LYjJmR_EB3nS"
      },
      "source": [
        "from pyspark.sql import SparkSession"
      ],
      "execution_count": 21,
      "outputs": []
    },
    {
      "cell_type": "code",
      "metadata": {
        "id": "mkErfkhvCNO8"
      },
      "source": [
        "acc = SparkSession.builder.master(\"local\").appName(\"Ques3\").getOrCreate()"
      ],
      "execution_count": 22,
      "outputs": []
    },
    {
      "cell_type": "code",
      "metadata": {
        "id": "5lCK_hzsCc42"
      },
      "source": [
        "ss = acc.sparkContext"
      ],
      "execution_count": 23,
      "outputs": []
    },
    {
      "cell_type": "code",
      "metadata": {
        "colab": {
          "resources": {
            "http://localhost:8080/nbextensions/google.colab/files.js": {
              "data": "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",
              "ok": true,
              "headers": [
                [
                  "content-type",
                  "application/javascript"
                ]
              ],
              "status": 200,
              "status_text": ""
            }
          },
          "base_uri": "https://localhost:8080/",
          "height": 38
        },
        "id": "G8E2u2rx-7W4",
        "outputId": "c00c6313-5414-48bb-e8c9-3422824a708e"
      },
      "source": [
        "from google.colab import files\n",
        "uploaded = files.upload()"
      ],
      "execution_count": 28,
      "outputs": [
        {
          "output_type": "display_data",
          "data": {
            "text/html": [
              "\n",
              "     <input type=\"file\" id=\"files-a6411ab7-754c-46e8-b027-12349f6a9a41\" name=\"files[]\" multiple disabled\n",
              "        style=\"border:none\" />\n",
              "     <output id=\"result-a6411ab7-754c-46e8-b027-12349f6a9a41\">\n",
              "      Upload widget is only available when the cell has been executed in the\n",
              "      current browser session. Please rerun this cell to enable.\n",
              "      </output>\n",
              "      <script src=\"/nbextensions/google.colab/files.js\"></script> "
            ],
            "text/plain": [
              "<IPython.core.display.HTML object>"
            ]
          },
          "metadata": {}
        }
      ]
    },
    {
      "cell_type": "code",
      "metadata": {
        "colab": {
          "resources": {
            "http://localhost:8080/nbextensions/google.colab/files.js": {
              "data": "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",
              "ok": true,
              "headers": [
                [
                  "content-type",
                  "application/javascript"
                ]
              ],
              "status": 200,
              "status_text": ""
            }
          },
          "base_uri": "https://localhost:8080/",
          "height": 72
        },
        "id": "AKhYuyzz_dsY",
        "outputId": "b85e8dda-b03e-4833-b6ce-f49d7f75f7bc"
      },
      "source": [
        "from google.colab import files\n",
        "uploaded = files.upload()"
      ],
      "execution_count": 25,
      "outputs": [
        {
          "output_type": "display_data",
          "data": {
            "text/html": [
              "\n",
              "     <input type=\"file\" id=\"files-44a7ec30-b906-4262-a43f-57d95175d205\" name=\"files[]\" multiple disabled\n",
              "        style=\"border:none\" />\n",
              "     <output id=\"result-44a7ec30-b906-4262-a43f-57d95175d205\">\n",
              "      Upload widget is only available when the cell has been executed in the\n",
              "      current browser session. Please rerun this cell to enable.\n",
              "      </output>\n",
              "      <script src=\"/nbextensions/google.colab/files.js\"></script> "
            ],
            "text/plain": [
              "<IPython.core.display.HTML object>"
            ]
          },
          "metadata": {}
        },
        {
          "output_type": "stream",
          "name": "stdout",
          "text": [
            "Saving random1.txt to random1.txt\n"
          ]
        }
      ]
    },
    {
      "cell_type": "code",
      "metadata": {
        "id": "sEN-g49uCuGb"
      },
      "source": [
        "file1 = ss.textFile('/content/random.txt')\n",
        "file2 = ss.textFile('/content/random1.txt')"
      ],
      "execution_count": 29,
      "outputs": []
    },
    {
      "cell_type": "code",
      "metadata": {
        "colab": {
          "base_uri": "https://localhost:8080/"
        },
        "id": "KExiHxu4C0gg",
        "outputId": "ee15467c-cf99-4f83-c0d4-01a2da0b45e8"
      },
      "source": [
        "file1.take(10)"
      ],
      "execution_count": 30,
      "outputs": [
        {
          "output_type": "execute_result",
          "data": {
            "text/plain": [
              "['Lorem ipsum dolor sit amet, consectetur adipiscing elit. Quisque fermentum, turpis eget euismod tincidunt, diam nunc laoreet neque, ut pharetra leo tortor ut tellus. Vestibulum non ligula ut justo dapibus pretium. Praesent vestibulum ullamcorper accumsan. Sed pulvinar congue fringilla. Nullam consectetur, sem eu egestas dapibus, urna lectus imperdiet diam, id tincidunt libero metus a nibh. Interdum et malesuada fames ac ante ipsum primis in faucibus. Aenean ut diam a felis consequat ullamcorper. In id purus quis nisl condimentum fermentum a eu felis. Nullam volutpat, dui a varius iaculis, urna orci ullamcorper tortor, et semper justo mauris sed nisi. Morbi sollicitudin felis sit amet dolor volutpat pharetra nec ultricies turpis. Maecenas maximus ornare arcu, at varius quam volutpat a. Pellentesque posuere sem a dui consectetur, vel molestie lorem aliquam. Vivamus viverra blandit ullamcorper. Curabitur dictum rhoncus orci, non placerat lorem dapibus eget. Suspendisse sodales sollicitudin purus et finibus.',\n",
              " '',\n",
              " 'Phasellus facilisis in ligula quis pulvinar. Nullam rhoncus dapibus erat sed mattis. Nam eget pulvinar urna. Nam maximus scelerisque finibus. Integer imperdiet semper tempus. Proin vitae neque enim. Ut euismod ex sed sollicitudin laoreet. Aliquam est erat, imperdiet quis dapibus eu, suscipit vel purus. Aenean sit amet lacus ullamcorper, pellentesque nibh feugiat, fringilla nunc. Vivamus ut elit velit.',\n",
              " '',\n",
              " 'Pellentesque eu posuere tortor. Aliquam ornare enim vitae fringilla finibus. Proin dignissim a purus eget efficitur. Vestibulum ante ipsum primis in faucibus orci luctus et ultrices posuere cubilia curae; Integer in ligula eu eros gravida sollicitudin ac sit amet nisi. Pellentesque eu pharetra erat. Morbi semper hendrerit tortor, at bibendum velit scelerisque nec. Aenean lorem sem, egestas sed semper ut, sodales vel nisi. Nunc porttitor ante nec auctor auctor. Pellentesque habitant morbi tristique senectus et netus et malesuada fames ac turpis egestas.',\n",
              " '',\n",
              " 'Donec bibendum lorem egestas arcu fringilla, eget aliquet magna aliquam. Fusce vel nunc vel erat pulvinar elementum ac nec magna. Morbi nec ex sodales, tempus nibh vitae, imperdiet felis. Sed sed hendrerit diam, nec convallis est. Quisque in mauris nec ligula convallis posuere. Nulla ac elit porta, lobortis arcu sit amet, fermentum est. Proin gravida ex ut turpis lobortis rutrum. Nam suscipit commodo tortor. Pellentesque aliquet eu sapien molestie vehicula.',\n",
              " '',\n",
              " 'Duis ultrices sem ac blandit euismod. Morbi sodales mi ac ex blandit consectetur. Sed auctor faucibus risus, et gravida ex pulvinar et. Donec lacinia diam quis dolor efficitur, ut imperdiet velit sollicitudin. Morbi ornare tortor nec mauris auctor sollicitudin. Etiam tristique imperdiet erat, ac lobortis massa pharetra commodo. Cras eu libero tortor. Proin eu metus ut ligula iaculis sollicitudin et quis metus. Sed blandit vulputate malesuada.']"
            ]
          },
          "metadata": {},
          "execution_count": 30
        }
      ]
    },
    {
      "cell_type": "code",
      "metadata": {
        "colab": {
          "base_uri": "https://localhost:8080/"
        },
        "id": "B04xc0a6C8gs",
        "outputId": "b3d7ec14-d80f-4f35-87e1-b87d0e04e9f6"
      },
      "source": [
        "file2.take(10)"
      ],
      "execution_count": 31,
      "outputs": [
        {
          "output_type": "execute_result",
          "data": {
            "text/plain": [
              "[\"Lorem Ipsum is simply dummy text of the printing and typesetting industry. Lorem Ipsum has been the industry's standard dummy text ever since the 1500s, when an unknown printer took a galley of type and scrambled it to make a type specimen book. It has survived not only five centuries, but also the leap into electronic typesetting, remaining essentially unchanged. It was popularised in the 1960s with the release of Letraset sheets containing Lorem Ipsum passages, and more recently with desktop publishing software like Aldus PageMaker including versions of Lorem Ipsum.\"]"
            ]
          },
          "metadata": {},
          "execution_count": 31
        }
      ]
    },
    {
      "cell_type": "code",
      "metadata": {
        "id": "SyMvLtN0C-Dv"
      },
      "source": [
        "words1 = file1.flatMap(lambda x : x.split(\" \"))\n",
        "\n",
        "words2 = file2.flatMap(lambda x : x.split(\" \"))"
      ],
      "execution_count": 32,
      "outputs": []
    },
    {
      "cell_type": "code",
      "metadata": {
        "id": "Qcb_DHcnDKjl"
      },
      "source": [
        "first = words1.map(lambda x : (x,\"random.txt\"))\n",
        "\n",
        "second = words2.map(lambda x : (x,\"random1.txt\"))"
      ],
      "execution_count": 33,
      "outputs": []
    },
    {
      "cell_type": "code",
      "metadata": {
        "colab": {
          "base_uri": "https://localhost:8080/"
        },
        "id": "xJrGhb5AEOW_",
        "outputId": "4b495b6b-02f6-423e-a3b1-fe1230481419"
      },
      "source": [
        "first.first()"
      ],
      "execution_count": 34,
      "outputs": [
        {
          "output_type": "execute_result",
          "data": {
            "text/plain": [
              "('Lorem', 'random.txt')"
            ]
          },
          "metadata": {},
          "execution_count": 34
        }
      ]
    },
    {
      "cell_type": "code",
      "metadata": {
        "colab": {
          "base_uri": "https://localhost:8080/"
        },
        "id": "vA6_KtxEET4S",
        "outputId": "51cc7981-7bbc-4af4-c6c4-91ec97aea732"
      },
      "source": [
        "second.first()"
      ],
      "execution_count": 35,
      "outputs": [
        {
          "output_type": "execute_result",
          "data": {
            "text/plain": [
              "('Lorem', 'random1.txt')"
            ]
          },
          "metadata": {},
          "execution_count": 35
        }
      ]
    },
    {
      "cell_type": "code",
      "metadata": {
        "id": "HNj1iX0UFFxM"
      },
      "source": [
        "first2 = first.reduceByKey(lambda x,y : x)"
      ],
      "execution_count": 36,
      "outputs": []
    },
    {
      "cell_type": "code",
      "metadata": {
        "colab": {
          "base_uri": "https://localhost:8080/"
        },
        "id": "vGAPPnfCGhxq",
        "outputId": "5e7b23d6-2d85-493c-ad4a-2a7f788d82ba"
      },
      "source": [
        "first2.take(10)"
      ],
      "execution_count": 37,
      "outputs": [
        {
          "output_type": "execute_result",
          "data": {
            "text/plain": [
              "[('Lorem', 'random.txt'),\n",
              " ('ipsum', 'random.txt'),\n",
              " ('dolor', 'random.txt'),\n",
              " ('sit', 'random.txt'),\n",
              " ('amet,', 'random.txt'),\n",
              " ('consectetur', 'random.txt'),\n",
              " ('adipiscing', 'random.txt'),\n",
              " ('elit.', 'random.txt'),\n",
              " ('Quisque', 'random.txt'),\n",
              " ('fermentum,', 'random.txt')]"
            ]
          },
          "metadata": {},
          "execution_count": 37
        }
      ]
    },
    {
      "cell_type": "code",
      "metadata": {
        "id": "dzhD0a1GGjOd"
      },
      "source": [
        "second2 = second.reduceByKey(lambda x,y : x)"
      ],
      "execution_count": 38,
      "outputs": []
    },
    {
      "cell_type": "code",
      "metadata": {
        "colab": {
          "base_uri": "https://localhost:8080/"
        },
        "id": "cRt2gSGoHciN",
        "outputId": "16169adf-7d27-4c0f-d104-c98ad4580bd6"
      },
      "source": [
        "second2.take(10)"
      ],
      "execution_count": 39,
      "outputs": [
        {
          "output_type": "execute_result",
          "data": {
            "text/plain": [
              "[('Lorem', 'random1.txt'),\n",
              " ('Ipsum', 'random1.txt'),\n",
              " ('is', 'random1.txt'),\n",
              " ('simply', 'random1.txt'),\n",
              " ('dummy', 'random1.txt'),\n",
              " ('text', 'random1.txt'),\n",
              " ('of', 'random1.txt'),\n",
              " ('the', 'random1.txt'),\n",
              " ('printing', 'random1.txt'),\n",
              " ('and', 'random1.txt')]"
            ]
          },
          "metadata": {},
          "execution_count": 39
        }
      ]
    },
    {
      "cell_type": "code",
      "metadata": {
        "id": "xFEJlLRNHe2X"
      },
      "source": [
        "dfs = [first2,second2]"
      ],
      "execution_count": 40,
      "outputs": []
    },
    {
      "cell_type": "code",
      "metadata": {
        "id": "ScpzNXUHHlu5"
      },
      "source": [
        "from functools import reduce"
      ],
      "execution_count": 41,
      "outputs": []
    },
    {
      "cell_type": "code",
      "metadata": {
        "id": "7r9znnpcHxdt"
      },
      "source": [
        "from pyspark.sql import DataFrame"
      ],
      "execution_count": 42,
      "outputs": []
    },
    {
      "cell_type": "code",
      "metadata": {
        "id": "jyqSFBNbHr7m"
      },
      "source": [
        "dfs_complete = reduce(DataFrame.unionAll,dfs)"
      ],
      "execution_count": 43,
      "outputs": []
    },
    {
      "cell_type": "code",
      "metadata": {
        "colab": {
          "base_uri": "https://localhost:8080/"
        },
        "id": "6uPd8EnlH8TS",
        "outputId": "9427dd3f-385c-46aa-875f-ca8d1e717401"
      },
      "source": [
        "dfs_complete.collect()"
      ],
      "execution_count": 44,
      "outputs": [
        {
          "output_type": "execute_result",
          "data": {
            "text/plain": [
              "[('Lorem', 'random.txt'),\n",
              " ('ipsum', 'random.txt'),\n",
              " ('dolor', 'random.txt'),\n",
              " ('sit', 'random.txt'),\n",
              " ('amet,', 'random.txt'),\n",
              " ('consectetur', 'random.txt'),\n",
              " ('adipiscing', 'random.txt'),\n",
              " ('elit.', 'random.txt'),\n",
              " ('Quisque', 'random.txt'),\n",
              " ('fermentum,', 'random.txt'),\n",
              " ('turpis', 'random.txt'),\n",
              " ('eget', 'random.txt'),\n",
              " ('euismod', 'random.txt'),\n",
              " ('tincidunt,', 'random.txt'),\n",
              " ('diam', 'random.txt'),\n",
              " ('nunc', 'random.txt'),\n",
              " ('laoreet', 'random.txt'),\n",
              " ('neque,', 'random.txt'),\n",
              " ('ut', 'random.txt'),\n",
              " ('pharetra', 'random.txt'),\n",
              " ('leo', 'random.txt'),\n",
              " ('tortor', 'random.txt'),\n",
              " ('tellus.', 'random.txt'),\n",
              " ('Vestibulum', 'random.txt'),\n",
              " ('non', 'random.txt'),\n",
              " ('ligula', 'random.txt'),\n",
              " ('justo', 'random.txt'),\n",
              " ('dapibus', 'random.txt'),\n",
              " ('pretium.', 'random.txt'),\n",
              " ('Praesent', 'random.txt'),\n",
              " ('vestibulum', 'random.txt'),\n",
              " ('ullamcorper', 'random.txt'),\n",
              " ('accumsan.', 'random.txt'),\n",
              " ('Sed', 'random.txt'),\n",
              " ('pulvinar', 'random.txt'),\n",
              " ('congue', 'random.txt'),\n",
              " ('fringilla.', 'random.txt'),\n",
              " ('Nullam', 'random.txt'),\n",
              " ('consectetur,', 'random.txt'),\n",
              " ('sem', 'random.txt'),\n",
              " ('eu', 'random.txt'),\n",
              " ('egestas', 'random.txt'),\n",
              " ('dapibus,', 'random.txt'),\n",
              " ('urna', 'random.txt'),\n",
              " ('lectus', 'random.txt'),\n",
              " ('imperdiet', 'random.txt'),\n",
              " ('diam,', 'random.txt'),\n",
              " ('id', 'random.txt'),\n",
              " ('tincidunt', 'random.txt'),\n",
              " ('libero', 'random.txt'),\n",
              " ('metus', 'random.txt'),\n",
              " ('a', 'random.txt'),\n",
              " ('nibh.', 'random.txt'),\n",
              " ('Interdum', 'random.txt'),\n",
              " ('et', 'random.txt'),\n",
              " ('malesuada', 'random.txt'),\n",
              " ('fames', 'random.txt'),\n",
              " ('ac', 'random.txt'),\n",
              " ('ante', 'random.txt'),\n",
              " ('primis', 'random.txt'),\n",
              " ('in', 'random.txt'),\n",
              " ('faucibus.', 'random.txt'),\n",
              " ('Aenean', 'random.txt'),\n",
              " ('felis', 'random.txt'),\n",
              " ('consequat', 'random.txt'),\n",
              " ('ullamcorper.', 'random.txt'),\n",
              " ('In', 'random.txt'),\n",
              " ('purus', 'random.txt'),\n",
              " ('quis', 'random.txt'),\n",
              " ('nisl', 'random.txt'),\n",
              " ('condimentum', 'random.txt'),\n",
              " ('fermentum', 'random.txt'),\n",
              " ('felis.', 'random.txt'),\n",
              " ('volutpat,', 'random.txt'),\n",
              " ('dui', 'random.txt'),\n",
              " ('varius', 'random.txt'),\n",
              " ('iaculis,', 'random.txt'),\n",
              " ('orci', 'random.txt'),\n",
              " ('tortor,', 'random.txt'),\n",
              " ('semper', 'random.txt'),\n",
              " ('mauris', 'random.txt'),\n",
              " ('sed', 'random.txt'),\n",
              " ('nisi.', 'random.txt'),\n",
              " ('Morbi', 'random.txt'),\n",
              " ('sollicitudin', 'random.txt'),\n",
              " ('amet', 'random.txt'),\n",
              " ('volutpat', 'random.txt'),\n",
              " ('nec', 'random.txt'),\n",
              " ('ultricies', 'random.txt'),\n",
              " ('turpis.', 'random.txt'),\n",
              " ('Maecenas', 'random.txt'),\n",
              " ('maximus', 'random.txt'),\n",
              " ('ornare', 'random.txt'),\n",
              " ('arcu,', 'random.txt'),\n",
              " ('at', 'random.txt'),\n",
              " ('quam', 'random.txt'),\n",
              " ('a.', 'random.txt'),\n",
              " ('Pellentesque', 'random.txt'),\n",
              " ('posuere', 'random.txt'),\n",
              " ('vel', 'random.txt'),\n",
              " ('molestie', 'random.txt'),\n",
              " ('lorem', 'random.txt'),\n",
              " ('aliquam.', 'random.txt'),\n",
              " ('Vivamus', 'random.txt'),\n",
              " ('viverra', 'random.txt'),\n",
              " ('blandit', 'random.txt'),\n",
              " ('Curabitur', 'random.txt'),\n",
              " ('dictum', 'random.txt'),\n",
              " ('rhoncus', 'random.txt'),\n",
              " ('orci,', 'random.txt'),\n",
              " ('placerat', 'random.txt'),\n",
              " ('eget.', 'random.txt'),\n",
              " ('Suspendisse', 'random.txt'),\n",
              " ('sodales', 'random.txt'),\n",
              " ('finibus.', 'random.txt'),\n",
              " ('', 'random.txt'),\n",
              " ('Phasellus', 'random.txt'),\n",
              " ('facilisis', 'random.txt'),\n",
              " ('pulvinar.', 'random.txt'),\n",
              " ('erat', 'random.txt'),\n",
              " ('mattis.', 'random.txt'),\n",
              " ('Nam', 'random.txt'),\n",
              " ('urna.', 'random.txt'),\n",
              " ('scelerisque', 'random.txt'),\n",
              " ('Integer', 'random.txt'),\n",
              " ('tempus.', 'random.txt'),\n",
              " ('Proin', 'random.txt'),\n",
              " ('vitae', 'random.txt'),\n",
              " ('neque', 'random.txt'),\n",
              " ('enim.', 'random.txt'),\n",
              " ('Ut', 'random.txt'),\n",
              " ('ex', 'random.txt'),\n",
              " ('laoreet.', 'random.txt'),\n",
              " ('Aliquam', 'random.txt'),\n",
              " ('est', 'random.txt'),\n",
              " ('erat,', 'random.txt'),\n",
              " ('eu,', 'random.txt'),\n",
              " ('suscipit', 'random.txt'),\n",
              " ('purus.', 'random.txt'),\n",
              " ('lacus', 'random.txt'),\n",
              " ('ullamcorper,', 'random.txt'),\n",
              " ('pellentesque', 'random.txt'),\n",
              " ('nibh', 'random.txt'),\n",
              " ('feugiat,', 'random.txt'),\n",
              " ('fringilla', 'random.txt'),\n",
              " ('nunc.', 'random.txt'),\n",
              " ('elit', 'random.txt'),\n",
              " ('velit.', 'random.txt'),\n",
              " ('tortor.', 'random.txt'),\n",
              " ('enim', 'random.txt'),\n",
              " ('dignissim', 'random.txt'),\n",
              " ('efficitur.', 'random.txt'),\n",
              " ('faucibus', 'random.txt'),\n",
              " ('luctus', 'random.txt'),\n",
              " ('ultrices', 'random.txt'),\n",
              " ('cubilia', 'random.txt'),\n",
              " ('curae;', 'random.txt'),\n",
              " ('eros', 'random.txt'),\n",
              " ('gravida', 'random.txt'),\n",
              " ('erat.', 'random.txt'),\n",
              " ('hendrerit', 'random.txt'),\n",
              " ('bibendum', 'random.txt'),\n",
              " ('velit', 'random.txt'),\n",
              " ('nec.', 'random.txt'),\n",
              " ('sem,', 'random.txt'),\n",
              " ('ut,', 'random.txt'),\n",
              " ('Nunc', 'random.txt'),\n",
              " ('porttitor', 'random.txt'),\n",
              " ('auctor', 'random.txt'),\n",
              " ('auctor.', 'random.txt'),\n",
              " ('habitant', 'random.txt'),\n",
              " ('morbi', 'random.txt'),\n",
              " ('tristique', 'random.txt'),\n",
              " ('senectus', 'random.txt'),\n",
              " ('netus', 'random.txt'),\n",
              " ('egestas.', 'random.txt'),\n",
              " ('Donec', 'random.txt'),\n",
              " ('arcu', 'random.txt'),\n",
              " ('fringilla,', 'random.txt'),\n",
              " ('aliquet', 'random.txt'),\n",
              " ('magna', 'random.txt'),\n",
              " ('Fusce', 'random.txt'),\n",
              " ('elementum', 'random.txt'),\n",
              " ('magna.', 'random.txt'),\n",
              " ('sodales,', 'random.txt'),\n",
              " ('tempus', 'random.txt'),\n",
              " ('vitae,', 'random.txt'),\n",
              " ('convallis', 'random.txt'),\n",
              " ('est.', 'random.txt'),\n",
              " ('posuere.', 'random.txt'),\n",
              " ('Nulla', 'random.txt'),\n",
              " ('porta,', 'random.txt'),\n",
              " ('lobortis', 'random.txt'),\n",
              " ('rutrum.', 'random.txt'),\n",
              " ('commodo', 'random.txt'),\n",
              " ('sapien', 'random.txt'),\n",
              " ('vehicula.', 'random.txt'),\n",
              " ('Duis', 'random.txt'),\n",
              " ('euismod.', 'random.txt'),\n",
              " ('mi', 'random.txt'),\n",
              " ('consectetur.', 'random.txt'),\n",
              " ('risus,', 'random.txt'),\n",
              " ('et.', 'random.txt'),\n",
              " ('lacinia', 'random.txt'),\n",
              " ('efficitur,', 'random.txt'),\n",
              " ('sollicitudin.', 'random.txt'),\n",
              " ('Etiam', 'random.txt'),\n",
              " ('massa', 'random.txt'),\n",
              " ('commodo.', 'random.txt'),\n",
              " ('Cras', 'random.txt'),\n",
              " ('iaculis', 'random.txt'),\n",
              " ('metus.', 'random.txt'),\n",
              " ('vulputate', 'random.txt'),\n",
              " ('malesuada.', 'random.txt'),\n",
              " ('Lorem', 'random1.txt'),\n",
              " ('Ipsum', 'random1.txt'),\n",
              " ('is', 'random1.txt'),\n",
              " ('simply', 'random1.txt'),\n",
              " ('dummy', 'random1.txt'),\n",
              " ('text', 'random1.txt'),\n",
              " ('of', 'random1.txt'),\n",
              " ('the', 'random1.txt'),\n",
              " ('printing', 'random1.txt'),\n",
              " ('and', 'random1.txt'),\n",
              " ('typesetting', 'random1.txt'),\n",
              " ('industry.', 'random1.txt'),\n",
              " ('has', 'random1.txt'),\n",
              " ('been', 'random1.txt'),\n",
              " (\"industry's\", 'random1.txt'),\n",
              " ('standard', 'random1.txt'),\n",
              " ('ever', 'random1.txt'),\n",
              " ('since', 'random1.txt'),\n",
              " ('1500s,', 'random1.txt'),\n",
              " ('when', 'random1.txt'),\n",
              " ('an', 'random1.txt'),\n",
              " ('unknown', 'random1.txt'),\n",
              " ('printer', 'random1.txt'),\n",
              " ('took', 'random1.txt'),\n",
              " ('a', 'random1.txt'),\n",
              " ('galley', 'random1.txt'),\n",
              " ('type', 'random1.txt'),\n",
              " ('scrambled', 'random1.txt'),\n",
              " ('it', 'random1.txt'),\n",
              " ('to', 'random1.txt'),\n",
              " ('make', 'random1.txt'),\n",
              " ('specimen', 'random1.txt'),\n",
              " ('book.', 'random1.txt'),\n",
              " ('It', 'random1.txt'),\n",
              " ('survived', 'random1.txt'),\n",
              " ('not', 'random1.txt'),\n",
              " ('only', 'random1.txt'),\n",
              " ('five', 'random1.txt'),\n",
              " ('centuries,', 'random1.txt'),\n",
              " ('but', 'random1.txt'),\n",
              " ('also', 'random1.txt'),\n",
              " ('leap', 'random1.txt'),\n",
              " ('into', 'random1.txt'),\n",
              " ('electronic', 'random1.txt'),\n",
              " ('typesetting,', 'random1.txt'),\n",
              " ('remaining', 'random1.txt'),\n",
              " ('essentially', 'random1.txt'),\n",
              " ('unchanged.', 'random1.txt'),\n",
              " ('was', 'random1.txt'),\n",
              " ('popularised', 'random1.txt'),\n",
              " ('in', 'random1.txt'),\n",
              " ('1960s', 'random1.txt'),\n",
              " ('with', 'random1.txt'),\n",
              " ('release', 'random1.txt'),\n",
              " ('Letraset', 'random1.txt'),\n",
              " ('sheets', 'random1.txt'),\n",
              " ('containing', 'random1.txt'),\n",
              " ('passages,', 'random1.txt'),\n",
              " ('more', 'random1.txt'),\n",
              " ('recently', 'random1.txt'),\n",
              " ('desktop', 'random1.txt'),\n",
              " ('publishing', 'random1.txt'),\n",
              " ('software', 'random1.txt'),\n",
              " ('like', 'random1.txt'),\n",
              " ('Aldus', 'random1.txt'),\n",
              " ('PageMaker', 'random1.txt'),\n",
              " ('including', 'random1.txt'),\n",
              " ('versions', 'random1.txt'),\n",
              " ('Ipsum.', 'random1.txt')]"
            ]
          },
          "metadata": {},
          "execution_count": 44
        }
      ]
    },
    {
      "cell_type": "code",
      "metadata": {
        "id": "afgkn5kNH9dT"
      },
      "source": [
        "final = dfs_complete.reduceByKey(lambda x,y : ('random1.txt','random.txt'))"
      ],
      "execution_count": 45,
      "outputs": []
    },
    {
      "cell_type": "code",
      "metadata": {
        "colab": {
          "base_uri": "https://localhost:8080/"
        },
        "id": "rltvolR8IUHY",
        "outputId": "600f892e-f19c-47b9-893a-509ffc57b47e"
      },
      "source": [
        "final.collect()"
      ],
      "execution_count": 46,
      "outputs": [
        {
          "output_type": "execute_result",
          "data": {
            "text/plain": [
              "[('Lorem', ('random1.txt', 'random.txt')),\n",
              " ('ipsum', 'random.txt'),\n",
              " ('dolor', 'random.txt'),\n",
              " ('sit', 'random.txt'),\n",
              " ('amet,', 'random.txt'),\n",
              " ('consectetur', 'random.txt'),\n",
              " ('adipiscing', 'random.txt'),\n",
              " ('elit.', 'random.txt'),\n",
              " ('Quisque', 'random.txt'),\n",
              " ('fermentum,', 'random.txt'),\n",
              " ('turpis', 'random.txt'),\n",
              " ('eget', 'random.txt'),\n",
              " ('euismod', 'random.txt'),\n",
              " ('tincidunt,', 'random.txt'),\n",
              " ('diam', 'random.txt'),\n",
              " ('nunc', 'random.txt'),\n",
              " ('laoreet', 'random.txt'),\n",
              " ('neque,', 'random.txt'),\n",
              " ('ut', 'random.txt'),\n",
              " ('pharetra', 'random.txt'),\n",
              " ('leo', 'random.txt'),\n",
              " ('tortor', 'random.txt'),\n",
              " ('tellus.', 'random.txt'),\n",
              " ('Vestibulum', 'random.txt'),\n",
              " ('non', 'random.txt'),\n",
              " ('ligula', 'random.txt'),\n",
              " ('justo', 'random.txt'),\n",
              " ('dapibus', 'random.txt'),\n",
              " ('pretium.', 'random.txt'),\n",
              " ('Praesent', 'random.txt'),\n",
              " ('vestibulum', 'random.txt'),\n",
              " ('ullamcorper', 'random.txt'),\n",
              " ('accumsan.', 'random.txt'),\n",
              " ('Sed', 'random.txt'),\n",
              " ('pulvinar', 'random.txt'),\n",
              " ('congue', 'random.txt'),\n",
              " ('fringilla.', 'random.txt'),\n",
              " ('Nullam', 'random.txt'),\n",
              " ('consectetur,', 'random.txt'),\n",
              " ('sem', 'random.txt'),\n",
              " ('eu', 'random.txt'),\n",
              " ('egestas', 'random.txt'),\n",
              " ('dapibus,', 'random.txt'),\n",
              " ('urna', 'random.txt'),\n",
              " ('lectus', 'random.txt'),\n",
              " ('imperdiet', 'random.txt'),\n",
              " ('diam,', 'random.txt'),\n",
              " ('id', 'random.txt'),\n",
              " ('tincidunt', 'random.txt'),\n",
              " ('libero', 'random.txt'),\n",
              " ('metus', 'random.txt'),\n",
              " ('a', ('random1.txt', 'random.txt')),\n",
              " ('nibh.', 'random.txt'),\n",
              " ('Interdum', 'random.txt'),\n",
              " ('et', 'random.txt'),\n",
              " ('malesuada', 'random.txt'),\n",
              " ('fames', 'random.txt'),\n",
              " ('ac', 'random.txt'),\n",
              " ('ante', 'random.txt'),\n",
              " ('primis', 'random.txt'),\n",
              " ('in', ('random1.txt', 'random.txt')),\n",
              " ('faucibus.', 'random.txt'),\n",
              " ('Aenean', 'random.txt'),\n",
              " ('felis', 'random.txt'),\n",
              " ('consequat', 'random.txt'),\n",
              " ('ullamcorper.', 'random.txt'),\n",
              " ('In', 'random.txt'),\n",
              " ('purus', 'random.txt'),\n",
              " ('quis', 'random.txt'),\n",
              " ('nisl', 'random.txt'),\n",
              " ('condimentum', 'random.txt'),\n",
              " ('fermentum', 'random.txt'),\n",
              " ('felis.', 'random.txt'),\n",
              " ('volutpat,', 'random.txt'),\n",
              " ('dui', 'random.txt'),\n",
              " ('varius', 'random.txt'),\n",
              " ('iaculis,', 'random.txt'),\n",
              " ('orci', 'random.txt'),\n",
              " ('tortor,', 'random.txt'),\n",
              " ('semper', 'random.txt'),\n",
              " ('mauris', 'random.txt'),\n",
              " ('sed', 'random.txt'),\n",
              " ('nisi.', 'random.txt'),\n",
              " ('Morbi', 'random.txt'),\n",
              " ('sollicitudin', 'random.txt'),\n",
              " ('amet', 'random.txt'),\n",
              " ('volutpat', 'random.txt'),\n",
              " ('nec', 'random.txt'),\n",
              " ('ultricies', 'random.txt'),\n",
              " ('turpis.', 'random.txt'),\n",
              " ('Maecenas', 'random.txt'),\n",
              " ('maximus', 'random.txt'),\n",
              " ('ornare', 'random.txt'),\n",
              " ('arcu,', 'random.txt'),\n",
              " ('at', 'random.txt'),\n",
              " ('quam', 'random.txt'),\n",
              " ('a.', 'random.txt'),\n",
              " ('Pellentesque', 'random.txt'),\n",
              " ('posuere', 'random.txt'),\n",
              " ('vel', 'random.txt'),\n",
              " ('molestie', 'random.txt'),\n",
              " ('lorem', 'random.txt'),\n",
              " ('aliquam.', 'random.txt'),\n",
              " ('Vivamus', 'random.txt'),\n",
              " ('viverra', 'random.txt'),\n",
              " ('blandit', 'random.txt'),\n",
              " ('Curabitur', 'random.txt'),\n",
              " ('dictum', 'random.txt'),\n",
              " ('rhoncus', 'random.txt'),\n",
              " ('orci,', 'random.txt'),\n",
              " ('placerat', 'random.txt'),\n",
              " ('eget.', 'random.txt'),\n",
              " ('Suspendisse', 'random.txt'),\n",
              " ('sodales', 'random.txt'),\n",
              " ('finibus.', 'random.txt'),\n",
              " ('', 'random.txt'),\n",
              " ('Phasellus', 'random.txt'),\n",
              " ('facilisis', 'random.txt'),\n",
              " ('pulvinar.', 'random.txt'),\n",
              " ('erat', 'random.txt'),\n",
              " ('mattis.', 'random.txt'),\n",
              " ('Nam', 'random.txt'),\n",
              " ('urna.', 'random.txt'),\n",
              " ('scelerisque', 'random.txt'),\n",
              " ('Integer', 'random.txt'),\n",
              " ('tempus.', 'random.txt'),\n",
              " ('Proin', 'random.txt'),\n",
              " ('vitae', 'random.txt'),\n",
              " ('neque', 'random.txt'),\n",
              " ('enim.', 'random.txt'),\n",
              " ('Ut', 'random.txt'),\n",
              " ('ex', 'random.txt'),\n",
              " ('laoreet.', 'random.txt'),\n",
              " ('Aliquam', 'random.txt'),\n",
              " ('est', 'random.txt'),\n",
              " ('erat,', 'random.txt'),\n",
              " ('eu,', 'random.txt'),\n",
              " ('suscipit', 'random.txt'),\n",
              " ('purus.', 'random.txt'),\n",
              " ('lacus', 'random.txt'),\n",
              " ('ullamcorper,', 'random.txt'),\n",
              " ('pellentesque', 'random.txt'),\n",
              " ('nibh', 'random.txt'),\n",
              " ('feugiat,', 'random.txt'),\n",
              " ('fringilla', 'random.txt'),\n",
              " ('nunc.', 'random.txt'),\n",
              " ('elit', 'random.txt'),\n",
              " ('velit.', 'random.txt'),\n",
              " ('tortor.', 'random.txt'),\n",
              " ('enim', 'random.txt'),\n",
              " ('dignissim', 'random.txt'),\n",
              " ('efficitur.', 'random.txt'),\n",
              " ('faucibus', 'random.txt'),\n",
              " ('luctus', 'random.txt'),\n",
              " ('ultrices', 'random.txt'),\n",
              " ('cubilia', 'random.txt'),\n",
              " ('curae;', 'random.txt'),\n",
              " ('eros', 'random.txt'),\n",
              " ('gravida', 'random.txt'),\n",
              " ('erat.', 'random.txt'),\n",
              " ('hendrerit', 'random.txt'),\n",
              " ('bibendum', 'random.txt'),\n",
              " ('velit', 'random.txt'),\n",
              " ('nec.', 'random.txt'),\n",
              " ('sem,', 'random.txt'),\n",
              " ('ut,', 'random.txt'),\n",
              " ('Nunc', 'random.txt'),\n",
              " ('porttitor', 'random.txt'),\n",
              " ('auctor', 'random.txt'),\n",
              " ('auctor.', 'random.txt'),\n",
              " ('habitant', 'random.txt'),\n",
              " ('morbi', 'random.txt'),\n",
              " ('tristique', 'random.txt'),\n",
              " ('senectus', 'random.txt'),\n",
              " ('netus', 'random.txt'),\n",
              " ('egestas.', 'random.txt'),\n",
              " ('Donec', 'random.txt'),\n",
              " ('arcu', 'random.txt'),\n",
              " ('fringilla,', 'random.txt'),\n",
              " ('aliquet', 'random.txt'),\n",
              " ('magna', 'random.txt'),\n",
              " ('Fusce', 'random.txt'),\n",
              " ('elementum', 'random.txt'),\n",
              " ('magna.', 'random.txt'),\n",
              " ('sodales,', 'random.txt'),\n",
              " ('tempus', 'random.txt'),\n",
              " ('vitae,', 'random.txt'),\n",
              " ('convallis', 'random.txt'),\n",
              " ('est.', 'random.txt'),\n",
              " ('posuere.', 'random.txt'),\n",
              " ('Nulla', 'random.txt'),\n",
              " ('porta,', 'random.txt'),\n",
              " ('lobortis', 'random.txt'),\n",
              " ('rutrum.', 'random.txt'),\n",
              " ('commodo', 'random.txt'),\n",
              " ('sapien', 'random.txt'),\n",
              " ('vehicula.', 'random.txt'),\n",
              " ('Duis', 'random.txt'),\n",
              " ('euismod.', 'random.txt'),\n",
              " ('mi', 'random.txt'),\n",
              " ('consectetur.', 'random.txt'),\n",
              " ('risus,', 'random.txt'),\n",
              " ('et.', 'random.txt'),\n",
              " ('lacinia', 'random.txt'),\n",
              " ('efficitur,', 'random.txt'),\n",
              " ('sollicitudin.', 'random.txt'),\n",
              " ('Etiam', 'random.txt'),\n",
              " ('massa', 'random.txt'),\n",
              " ('commodo.', 'random.txt'),\n",
              " ('Cras', 'random.txt'),\n",
              " ('iaculis', 'random.txt'),\n",
              " ('metus.', 'random.txt'),\n",
              " ('vulputate', 'random.txt'),\n",
              " ('malesuada.', 'random.txt'),\n",
              " ('Ipsum', 'random1.txt'),\n",
              " ('is', 'random1.txt'),\n",
              " ('simply', 'random1.txt'),\n",
              " ('dummy', 'random1.txt'),\n",
              " ('text', 'random1.txt'),\n",
              " ('of', 'random1.txt'),\n",
              " ('the', 'random1.txt'),\n",
              " ('printing', 'random1.txt'),\n",
              " ('and', 'random1.txt'),\n",
              " ('typesetting', 'random1.txt'),\n",
              " ('industry.', 'random1.txt'),\n",
              " ('has', 'random1.txt'),\n",
              " ('been', 'random1.txt'),\n",
              " (\"industry's\", 'random1.txt'),\n",
              " ('standard', 'random1.txt'),\n",
              " ('ever', 'random1.txt'),\n",
              " ('since', 'random1.txt'),\n",
              " ('1500s,', 'random1.txt'),\n",
              " ('when', 'random1.txt'),\n",
              " ('an', 'random1.txt'),\n",
              " ('unknown', 'random1.txt'),\n",
              " ('printer', 'random1.txt'),\n",
              " ('took', 'random1.txt'),\n",
              " ('galley', 'random1.txt'),\n",
              " ('type', 'random1.txt'),\n",
              " ('scrambled', 'random1.txt'),\n",
              " ('it', 'random1.txt'),\n",
              " ('to', 'random1.txt'),\n",
              " ('make', 'random1.txt'),\n",
              " ('specimen', 'random1.txt'),\n",
              " ('book.', 'random1.txt'),\n",
              " ('It', 'random1.txt'),\n",
              " ('survived', 'random1.txt'),\n",
              " ('not', 'random1.txt'),\n",
              " ('only', 'random1.txt'),\n",
              " ('five', 'random1.txt'),\n",
              " ('centuries,', 'random1.txt'),\n",
              " ('but', 'random1.txt'),\n",
              " ('also', 'random1.txt'),\n",
              " ('leap', 'random1.txt'),\n",
              " ('into', 'random1.txt'),\n",
              " ('electronic', 'random1.txt'),\n",
              " ('typesetting,', 'random1.txt'),\n",
              " ('remaining', 'random1.txt'),\n",
              " ('essentially', 'random1.txt'),\n",
              " ('unchanged.', 'random1.txt'),\n",
              " ('was', 'random1.txt'),\n",
              " ('popularised', 'random1.txt'),\n",
              " ('1960s', 'random1.txt'),\n",
              " ('with', 'random1.txt'),\n",
              " ('release', 'random1.txt'),\n",
              " ('Letraset', 'random1.txt'),\n",
              " ('sheets', 'random1.txt'),\n",
              " ('containing', 'random1.txt'),\n",
              " ('passages,', 'random1.txt'),\n",
              " ('more', 'random1.txt'),\n",
              " ('recently', 'random1.txt'),\n",
              " ('desktop', 'random1.txt'),\n",
              " ('publishing', 'random1.txt'),\n",
              " ('software', 'random1.txt'),\n",
              " ('like', 'random1.txt'),\n",
              " ('Aldus', 'random1.txt'),\n",
              " ('PageMaker', 'random1.txt'),\n",
              " ('including', 'random1.txt'),\n",
              " ('versions', 'random1.txt'),\n",
              " ('Ipsum.', 'random1.txt')]"
            ]
          },
          "metadata": {},
          "execution_count": 46
        }
      ]
    },
    {
      "cell_type": "code",
      "metadata": {
        "id": "URD3avKaIVa4"
      },
      "source": [
        ""
      ],
      "execution_count": null,
      "outputs": []
    }
  ]
}